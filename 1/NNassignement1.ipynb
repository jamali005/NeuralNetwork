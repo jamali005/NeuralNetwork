{
 "cells": [
  {
   "cell_type": "code",
   "execution_count": 6,
   "metadata": {
    "colab": {},
    "colab_type": "code",
    "id": "YLZ0HE7Hf65_"
   },
   "outputs": [],
   "source": [
    "import sympy as sym\n",
    "import numpy as np\n",
    "import matplotlib.pyplot as plt\n",
    "sym.init_printing(use_latex=True)"
   ]
  },
  {
   "cell_type": "markdown",
   "metadata": {
    "colab_type": "text",
    "id": "lKk9GXGqc4QW"
   },
   "source": [
    "# Models of a neuron\n",
    "## 1.1 \n",
    "\n",
    "First we proof that $ \\frac{df}{dv} = af(v)[1-f(v)] $ \n",
    "\n",
    "is a derivative of \n",
    "\n",
    "$f(v)= \\frac{1}{1+exp(-av)} $\n",
    "\n",
    "by solving $ \\frac{df}{dv} = af(v)[1-f(v)] $ as a differential equation.\n",
    "  \n",
    "\n",
    "using sympy:"
   ]
  },
  {
   "cell_type": "code",
   "execution_count": 35,
   "metadata": {},
   "outputs": [
    {
     "data": {
      "image/png": "[encoded data removed]",
      "text/latex": [
       "$$f{\\left (v \\right )} = \\frac{1}{C_{1} e^{- a v} + 1}$$"
      ],
      "text/plain": [
       "            1      \n",
       "f(v) = ────────────\n",
       "           -a⋅v    \n",
       "       C₁⋅ℯ     + 1"
      ]
     },
     "metadata": {},
     "output_type": "display_data"
    }
   ],
   "source": [
    "v = sym.symbols('v') \n",
    "a = sym.symbols('a') \n",
    "f = sym.Function('f')(v)\n",
    "f_prime = sym.Derivative(f, v)\n",
    "\n",
    "eq = f_prime - a*f*(1-f)\n",
    "eqnsoln = sym.dsolve(eq)\n",
    "\n",
    "display(eqnsoln)"
   ]
  },
  {
   "cell_type": "code",
   "execution_count": 47,
   "metadata": {
    "colab": {
     "base_uri": "https://localhost:8080/",
     "height": 34
    },
    "colab_type": "code",
    "executionInfo": {
     "elapsed": 639,
     "status": "ok",
     "timestamp": 1570272584404,
     "user": {
      "displayName": "Hatim JAMALI",
      "photoUrl": "",
      "userId": "12031217391056068623"
     },
     "user_tz": -120
    },
    "id": "1vF4MBKncp8L",
    "outputId": "63fdd01d-0ab0-49d0-b854-458c828434a8"
   },
   "outputs": [
    {
     "data": {
      "image/png": "[encoded data removed]",
      "text/latex": [
       "$$\\frac{a e^{- a v}}{\\left(1 + e^{- a v}\\right)^{2}}$$"
      ],
      "text/plain": [
       "     -a⋅v   \n",
       "  a⋅ℯ       \n",
       "────────────\n",
       "           2\n",
       "⎛     -a⋅v⎞ \n",
       "⎝1 + ℯ    ⎠ "
      ]
     },
     "execution_count": 47,
     "metadata": {},
     "output_type": "execute_result"
    }
   ],
   "source": [
    "v = sym.symbols('v') \n",
    "a = sym.symbols('a') \n",
    "f = 1/(1+sym.exp(-a*v)) #defines f as a symbolic function\n",
    "df=sym.diff(f, v)\n",
    "#display(df.subs(v,0))\n",
    "df"
   ]
  },
  {
   "cell_type": "markdown",
   "metadata": {
    "colab_type": "text",
    "id": "JNQkmBGVirY1"
   },
   "source": [
    "## 1.3 \n",
    "$g(v)= \\frac{v}{\\sqrt{1+v^2}} $  \\\\\n",
    "\n",
    "---\n",
    "\n",
    "\n",
    "$df/dv = f^3(v)/v^3 $  "
   ]
  },
  {
   "cell_type": "code",
   "execution_count": 52,
   "metadata": {
    "colab": {
     "base_uri": "https://localhost:8080/",
     "height": 34
    },
    "colab_type": "code",
    "executionInfo": {
     "elapsed": 797,
     "status": "ok",
     "timestamp": 1570273093863,
     "user": {
      "displayName": "Hatim JAMALI",
      "photoUrl": "",
      "userId": "12031217391056068623"
     },
     "user_tz": -120
    },
    "id": "JdqTvN1UkE4t",
    "outputId": "5650fe8e-ecec-4e2a-f0a0-2b44d0d1dfb5"
   },
   "outputs": [
    {
     "data": {
      "image/png": "[encoded data removed]",
      "text/latex": [
       "$$- \\frac{v^{2}}{\\left(v^{2} + 1\\right)^{\\frac{3}{2}}} + \\frac{1}{\\sqrt{v^{2} + 1}}$$"
      ],
      "text/plain": [
       "        2                  \n",
       "       v             1     \n",
       "- ─────────── + ───────────\n",
       "          3/2      ________\n",
       "  ⎛ 2    ⎞        ╱  2     \n",
       "  ⎝v  + 1⎠      ╲╱  v  + 1 "
      ]
     },
     "execution_count": 52,
     "metadata": {},
     "output_type": "execute_result"
    }
   ],
   "source": [
    "v = sym.symbols('v') \n",
    "a = sym.symbols('a') \n",
    "f = v/sym.sqrt(1+v**2) #defines f as a symbolic function\n",
    "df=sym.diff(f, v)\n",
    "df\n",
    "#df.subs(v,0)"
   ]
  },
  {
   "cell_type": "markdown",
   "metadata": {
    "colab_type": "text",
    "id": "1i_jQJjzlV7d"
   },
   "source": [
    "## Network architectures\n",
    "\n"
   ]
  },
  {
   "cell_type": "code",
   "execution_count": 10,
   "metadata": {
    "colab": {},
    "colab_type": "code",
    "id": "_hykBlNywo9S"
   },
   "outputs": [],
   "source": [
    "nn_architecture = [\n",
    "    {\"layer_size\": 10, \"activation\": \"none\"}, # input layer\n",
    "    {\"layer_size\": 4, \"activation\": \"relu\"},\n",
    "    {\"layer_size\": 3, \"activation\": \"relu\"},\n",
    "    {\"layer_size\": 1, \"activation\": \"sigmoid\"} #output \n",
    "]\n",
    "\n",
    "def initialize_parameters(nn_architecture, seed = 2):\n",
    "    np.random.seed(seed) # pseudorandom number generator.\n",
    "    # python dictionary containing our parameters \"W1\", \"b1\", ..., \"WL\", \"bL\"\n",
    "    parameters = {}\n",
    "    number_of_layers = len(nn_architecture)\n",
    "\n",
    "    for l in range(1, number_of_layers):\n",
    "        parameters['W' + str(l)] = np.random.randn(\n",
    "            nn_architecture[l][\"layer_size\"],\n",
    "            nn_architecture[l-1][\"layer_size\"]\n",
    "            ) * 0.01\n",
    "        parameters['b' + str(l)] = np.zeros((nn_architecture[l][\"layer_size\"], 1))\n",
    "        \n",
    "    return parameters\n",
    "def sigmoid(Z):\n",
    "    S = 1 / (1 + np.exp(-Z))\n",
    "    return S\n",
    "def relu(Z):\n",
    "    R = np.maximum(0, Z)\n",
    "    return R\n"
   ]
  }
 ],
 "metadata": {
  "colab": {
   "collapsed_sections": [],
   "name": "NNassignement1.ipynb",
   "provenance": []
  },
  "kernelspec": {
   "display_name": "Python 3",
   "language": "python",
   "name": "python3"
  },
  "language_info": {
   "codemirror_mode": {
    "name": "ipython",
    "version": 3
   },
   "file_extension": ".py",
   "mimetype": "text/x-python",
   "name": "python",
   "nbconvert_exporter": "python",
   "pygments_lexer": "ipython3",
   "version": "3.7.4"
  }
 },
 "nbformat": 4,
 "nbformat_minor": 1
}
