{
 "cells": [
  {
   "cell_type": "markdown",
   "metadata": {
    "deletable": false,
    "editable": false,
    "nbgrader": {
     "checksum": "e92bc6fc8fae18caee15d85d34ab5d76",
     "grade": false,
     "grade_id": "cell-681ee6605ce926da",
     "locked": true,
     "schema_version": 1,
     "solution": false
    }
   },
   "source": [
    "## Instructions"
   ]
  },
  {
   "cell_type": "markdown",
   "metadata": {
    "deletable": false,
    "editable": false,
    "nbgrader": {
     "checksum": "996a9b05655e4f43b7be379f2ca04d61",
     "grade": false,
     "grade_id": "Task-01-Description",
     "locked": true,
     "schema_version": 1,
     "solution": false
    }
   },
   "source": [
    "1. Read chapter 2 from Haykin’s book until 2.13 (leaving out Statistical learning theory to end of chapter) and summarize or sketch your insights in mind-map or an outline or a summary. [4 points]"
   ]
  },
  {
   "cell_type": "markdown",
   "metadata": {
    "deletable": false,
    "nbgrader": {
     "checksum": "4aa77ff583ae09de79486e06bc9b5fda",
     "grade": true,
     "grade_id": "Task-01",
     "locked": false,
     "points": 4,
     "schema_version": 1,
     "solution": true
    }
   },
   "source": [
    "YOUR ANSWER HERE"
   ]
  },
  {
   "cell_type": "markdown",
   "metadata": {
    "deletable": false,
    "editable": false,
    "nbgrader": {
     "checksum": "8f5fd94b742912e42bcbd5414fdc8311",
     "grade": false,
     "grade_id": "Task-02-Description",
     "locked": true,
     "schema_version": 1,
     "solution": false
    }
   },
   "source": [
    " 2. Write down 3 questions and their brief answers on the reading material. [2 Points]"
   ]
  },
  {
   "cell_type": "markdown",
   "metadata": {},
   "source": []
  },
  {
   "cell_type": "markdown",
   "metadata": {
    "deletable": false,
    "nbgrader": {
     "checksum": "d81ff7c7e4898d2e1d9c3394c56c33c1",
     "grade": true,
     "grade_id": "Task-02",
     "locked": false,
     "points": 2,
     "schema_version": 1,
     "solution": true
    }
   },
   "source": [
    "YOUR ANSWER HERE"
   ]
  },
  {
   "cell_type": "markdown",
   "metadata": {
    "deletable": false,
    "editable": false,
    "nbgrader": {
     "checksum": "60a57c9ae52d4e47fbd96d172acced6e",
     "grade": false,
     "grade_id": "Task-03-Description",
     "locked": true,
     "schema_version": 1,
     "solution": false
    }
   },
   "source": [
    "3. Do the problem 1.13 (Network architecture) from the previous week’s assignment again by visualising the output of the neuron using 3d view. Assume the network presented in fig P1.13 is a binary-classifier, please depict how the input space (R2) is classified on a 3D graph using different colors. [8 points] "
   ]
  },
  {
   "cell_type": "code",
   "execution_count": null,
   "metadata": {
    "deletable": false,
    "nbgrader": {
     "checksum": "ebc3bb7b4b4a8548553d3a35a42ccbee",
     "grade": true,
     "grade_id": "Task-03",
     "locked": false,
     "points": 8,
     "schema_version": 1,
     "solution": true
    }
   },
   "outputs": [],
   "source": [
    "# YOUR CODE HERE\n",
    "raise NotImplementedError()"
   ]
  },
  {
   "cell_type": "markdown",
   "metadata": {
    "deletable": false,
    "editable": false,
    "nbgrader": {
     "checksum": "a330ea92d66b35f17dde7b31ec514dcc",
     "grade": false,
     "grade_id": "Task-04-Description",
     "locked": true,
     "schema_version": 1,
     "solution": false
    }
   },
   "source": [
    "4. Adjust the data at the \"New Classification Example (now *with* bias)\" slide, such that a bais becomes necessary (not 0). Validate the perceptron learning algorithm. [8 points]"
   ]
  },
  {
   "cell_type": "code",
   "execution_count": null,
   "metadata": {
    "deletable": false,
    "nbgrader": {
     "checksum": "30d79ca20769be46f1794b134c44f017",
     "grade": true,
     "grade_id": "Task-04",
     "locked": false,
     "points": 8,
     "schema_version": 1,
     "solution": true
    }
   },
   "outputs": [],
   "source": [
    "# YOUR CODE HERE\n",
    "raise NotImplementedError()"
   ]
  },
  {
   "cell_type": "markdown",
   "metadata": {
    "deletable": false,
    "editable": false,
    "nbgrader": {
     "checksum": "1989564b656f18175e3edce64e697fac",
     "grade": false,
     "grade_id": "Task-05-Description",
     "locked": true,
     "schema_version": 1,
     "solution": false
    }
   },
   "source": [
    "5. Program the perceptron learning algorithm as binary classifier in Python. Define two functions: learn_pecptron and evaluate_perceptron. The learn_pecptron function are learning rate, positive and negative data.[8 points]"
   ]
  },
  {
   "cell_type": "code",
   "execution_count": null,
   "metadata": {
    "deletable": false,
    "nbgrader": {
     "checksum": "7cdd0039dbfb37088c34fd2ced9d9d4e",
     "grade": true,
     "grade_id": "Task-05",
     "locked": false,
     "points": 8,
     "schema_version": 1,
     "solution": true
    }
   },
   "outputs": [],
   "source": [
    "# YOUR CODE HERE\n",
    "raise NotImplementedError()"
   ]
  }
 ],
 "metadata": {
  "kernelspec": {
   "display_name": "Python 2",
   "language": "python",
   "name": "python2"
  },
  "language_info": {
   "codemirror_mode": {
    "name": "ipython",
    "version": 2
   },
   "file_extension": ".py",
   "mimetype": "text/x-python",
   "name": "python",
   "nbconvert_exporter": "python",
   "pygments_lexer": "ipython2",
   "version": "2.7.16"
  },
  "nbTranslate": {
   "displayLangs": [
    "*"
   ],
   "hotkey": "alt-t",
   "langInMainMenu": true,
   "sourceLang": "en",
   "targetLang": "fr",
   "useGoogleTranslate": true
  }
 },
 "nbformat": 4,
 "nbformat_minor": 2
}
