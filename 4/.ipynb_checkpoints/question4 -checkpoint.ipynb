{
 "cells": [
  {
   "cell_type": "code",
   "execution_count": 1,
   "metadata": {},
   "outputs": [],
   "source": [
    "import numpy as np "
   ]
  },
  {
   "cell_type": "code",
   "execution_count": 7,
   "metadata": {},
   "outputs": [
    {
     "name": "stdout",
     "output_type": "stream",
     "text": [
      "m= 4196.490797844647\n",
      "For 2 input perceptron, with a VC-dim = 2+1 = 3, the total input required for error 0.05 is 4196\n",
      "For a 2 input perceptron, the network needs at least 4196 inputs in garuntee error of 0.05.\n",
      "\n",
      "This is a lot of data combinations for only 2 input perceptron and hence, not realistic.\n"
     ]
    }
   ],
   "source": [
    "def perceptron_num_input(e,d,r):\n",
    "    return (1/e)*((4*np.log2(2/d))+(8*(r+1)*np.log2(13/e)))\n",
    "\n",
    "\n",
    "d = 1-0.9 \n",
    "e = 0.05\n",
    "r=2\n",
    "m = perceptron_num_input(e,d,r)\n",
    "print(\"m=\",m)\n",
    "\n",
    "print(\"For 2 input perceptron, with a VC-dim = 2+1 = 3, the total input required for error 0.05 is\",int(m))\n",
    "print(\"For a 2 input perceptron, the network needs at least 4196 inputs in garuntee error of 0.05.\\n\")\n",
    "print(\"This is a lot of data combinations for only 2 input perceptron and hence, not realistic.\")"
   ]
  },
  {
   "cell_type": "code",
   "execution_count": null,
   "metadata": {},
   "outputs": [],
   "source": []
  }
 ],
 "metadata": {
  "kernelspec": {
   "display_name": "Python 3",
   "language": "python",
   "name": "python3"
  },
  "language_info": {
   "codemirror_mode": {
    "name": "ipython",
    "version": 3
   },
   "file_extension": ".py",
   "mimetype": "text/x-python",
   "name": "python",
   "nbconvert_exporter": "python",
   "pygments_lexer": "ipython3",
   "version": "3.7.4"
  }
 },
 "nbformat": 4,
 "nbformat_minor": 2
}
