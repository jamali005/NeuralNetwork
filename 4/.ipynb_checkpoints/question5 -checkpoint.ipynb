{
 "cells": [
  {
   "cell_type": "markdown",
   "metadata": {},
   "source": [
    "* The upper bound m is calculated by the following equatioin : \n",
    "$$m \\geq \\frac{1}{\\epsilon}\\big(\\ln\\big(|H|\\big)+\\ln\\big(\\frac{1}{\\delta}\\big)\\big) $$\n",
    "\n",
    "as given from the question: \n",
    "    $$|H| = \\frac {1}{4} * n(n+1)^2$$\n",
    "    \n",
    "given $\\delta = 1-0.95 = 0.05$ and $\\epsilon = 0.15$\n",
    "\n",
    "taking size of rectangle to be 100 $(n=100)$\n",
    "we first calculate $|H| = 100*(100+1)^2 = 255025$\n",
    "\n",
    "therefore m will be : \n",
    "\n",
    "$$m \\geq \\frac{1}{0.15}\\big(\\ln\\big(255025\\big)+\\ln\\big(\\frac{1}{0.05}\\big)\\big) $$\n",
    "\n",
    "$$m \\geq 102.97$$\n",
    "\n",
    "and by rounding: \n",
    "\n",
    "$$m \\geq 103$$ \n",
    "\n",
    "---\n",
    "\n",
    "#### please note:  In the text book reference the size |H| is depicted by the following equation:\n",
    "$$|H| = \\big(\\frac {n(n+1)}{2}\\big)^2$$\n",
    "\n",
    "which gives $$|H| = \\big(\\frac {100(100+1)}{2}\\big)^2 = 25502500$$\n",
    "\n",
    "(taking n = 100). \n",
    "\n",
    "Hence, the value of m (the upper bound) will become: $$m \\geq \\frac{1}{0.15}\\big(\\ln\\big(25502500.0\\big)+\\ln\\big(\\frac{1}{0.05}\\big)\\big) $$\n",
    "$$m \\geq 133.6667$$\n",
    "by rounding: \n",
    "$$m \\approx 134$$\n",
    "\n",
    "---\n",
    "\n",
    "\n",
    "\n",
    "* Now if we use real values: \n",
    "Here we can use VC-dimension as we're dealing with an infinite space. Therefore, the equation will be the following: \n",
    "\n",
    "$$m \\geq \\frac{1}{\\epsilon}\\big(4\\log_2\\big(\\frac{2}{\\delta}\\big)+8VCdim(H)\\log_2\\big(\\frac{13}{\\epsilon}\\big)\\big) $$\n",
    "\n",
    "Hence: \n",
    "\n",
    "\n",
    "$$ m \\geq \\frac{1}{0.15}\\big(4\\log_2\\big(\\frac{2}{0.05}\\big)+8*4*\\log_2\\big(\\frac{13}{0.15}\\big)\\big) $$\n",
    "$$\\implies m \\geq 1515.23$$\n",
    "$$\\implies m \\approx 1515$$ which is large. "
   ]
  },
  {
   "cell_type": "code",
   "execution_count": 2,
   "metadata": {},
   "outputs": [],
   "source": [
    "import numpy as np"
   ]
  },
  {
   "cell_type": "code",
   "execution_count": 3,
   "metadata": {},
   "outputs": [
    {
     "name": "stdout",
     "output_type": "stream",
     "text": [
      "m = 103.0\n",
      "\n",
      " for the equation in the text book: \n",
      "\n",
      "m= 134.0\n",
      "-----------------------------------------\n",
      "\n",
      "for real values\n",
      "m =  1515.0\n"
     ]
    }
   ],
   "source": [
    "def h_size(n):\n",
    "    return ((1/4)*n*(n+1)**2)\n",
    "\n",
    "\n",
    "def h_size2(n): \n",
    "    return ((n*(n+1))/2)**2\n",
    "\n",
    "\n",
    "def num_of_samples(h,d,e):\n",
    "    return round(((1/e)*(np.log(h)+np.log(1/d))))\n",
    "\n",
    "\n",
    "def num_of_samples_for_real_values(vcd,d,e): \n",
    "    return round(((1/e)*((4*np.log2(2/d))+(8*vcd*np.log2(13/e)))))\n",
    "    \n",
    "e = 0.15 \n",
    "d = 0.05 \n",
    "n = 100 \n",
    "h = h_size(n)\n",
    "h2 = h_size2(n)\n",
    "vcd = 4 #given for rectangle \n",
    "num_examples = num_of_samples(h,d,e)\n",
    "print(\"m =\",num_examples)\n",
    "print(\"\\n for the equation in the text book: \\n\")\n",
    "num_examples2 = num_of_samples(h2,d,e)\n",
    "print(\"m=\",num_examples2)\n",
    "print(\"-----------------------------------------\\n\")\n",
    "print(\"for real values\")\n",
    "print(\"m = \",num_of_samples_for_real_values(vcd,d,e) )"
   ]
  },
  {
   "cell_type": "code",
   "execution_count": null,
   "metadata": {},
   "outputs": [],
   "source": []
  }
 ],
 "metadata": {
  "kernelspec": {
   "display_name": "Python 3",
   "language": "python",
   "name": "python3"
  },
  "language_info": {
   "codemirror_mode": {
    "name": "ipython",
    "version": 3
   },
   "file_extension": ".py",
   "mimetype": "text/x-python",
   "name": "python",
   "nbconvert_exporter": "python",
   "pygments_lexer": "ipython3",
   "version": "3.7.4"
  }
 },
 "nbformat": 4,
 "nbformat_minor": 2
}
